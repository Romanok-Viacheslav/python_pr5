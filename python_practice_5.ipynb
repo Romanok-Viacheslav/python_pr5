{
  "nbformat": 4,
  "nbformat_minor": 0,
  "metadata": {
    "colab": {
      "provenance": []
    },
    "kernelspec": {
      "name": "python3",
      "display_name": "Python 3"
    },
    "language_info": {
      "name": "python"
    }
  },
  "cells": [
    {
      "cell_type": "markdown",
      "source": [
        "# I. OOP"
      ],
      "metadata": {
        "id": "awfU0tMnOlHH"
      }
    },
    {
      "cell_type": "markdown",
      "source": [
        "1. (7б). Створіть клас Animal, додайте docstring, три атрибути, один з яких має значення за замовчуванням та два методи на свій розсуд."
      ],
      "metadata": {
        "id": "T6r88C4sOwbI"
      }
    },
    {
      "cell_type": "code",
      "source": [
        "class Animal:\n",
        "    \"\"\"\n",
        "    This class represents an animal.\n",
        "\n",
        "    Attributes:\n",
        "        name (str): The name of the animal.\n",
        "        species (str): The species of the animal.\n",
        "        age (int, optional): The age of the animal (default is 1).\n",
        "    \"\"\"\n",
        "\n",
        "    def __init__(self, name, species, age=1):\n",
        "        \"\"\"\n",
        "        Initializes a new instance of the Animal class.\n",
        "\n",
        "        Args:\n",
        "            name (str): The name of the animal.\n",
        "            species (str): The species of the animal.\n",
        "            age (int, optional): The age of the animal (default is 1).\n",
        "        \"\"\"\n",
        "        self.name = name\n",
        "        self.species = species\n",
        "        self.age = age\n",
        "\n",
        "    def make_sound(self):\n",
        "        \"\"\"\n",
        "        Makes a sound characteristic to the animal.\n",
        "\n",
        "        Returns:\n",
        "            str: A string representing the sound of the animal.\n",
        "        \"\"\"\n",
        "        return \"Imagine you can hear him\"\n",
        "\n",
        "    def birthday(self):\n",
        "        \"\"\"\n",
        "        Increases the age of the animal by one, representing a birthday.\n",
        "        \"\"\"\n",
        "        self.age += 1\n",
        "        print(f\"{self.name} is now {self.age} years old!\")"
      ],
      "metadata": {
        "id": "fWXuCGV8Oqrn"
      },
      "execution_count": 45,
      "outputs": []
    },
    {
      "cell_type": "markdown",
      "source": [
        "1.1. (5б). Створіть два обʼєкти цього класу. На одному обʼєкті отримайте значення його атрибуту, а на іншому викличте один з його методів."
      ],
      "metadata": {
        "id": "CTu5Dt0_UKul"
      }
    },
    {
      "cell_type": "code",
      "source": [
        "animal1 = Animal(name=\"Tom\", species=\"Cat\", age=3)\n",
        "animal2 = Animal(name=\"Jerry\", species=\"Mouse\", age=2)\n",
        "\n",
        "print(f\"{animal1.name} is a {animal1.age}-year-old {animal1.species}.\")\n",
        "\n",
        "sound = animal2.make_sound()\n",
        "print(f\"{animal2.name} says: {sound}\")\n",
        "\n",
        "animal1.birthday()"
      ],
      "metadata": {
        "id": "nLQqAIlKUQRP",
        "colab": {
          "base_uri": "https://localhost:8080/"
        },
        "outputId": "d61dd035-80c8-4ce1-b33a-6168e24d127e"
      },
      "execution_count": 46,
      "outputs": [
        {
          "output_type": "stream",
          "name": "stdout",
          "text": [
            "Tom is a 3-year-old Cat.\n",
            "Jerry says: Imagine you can hear him\n",
            "Tom is now 4 years old!\n"
          ]
        }
      ]
    },
    {
      "cell_type": "markdown",
      "source": [
        "2. (9б). Створіть клас, де атрибути мають різні рівні доступу. Спробуйте отримати їхні значення та опишіть результати."
      ],
      "metadata": {
        "id": "3KKpQYcWRNgj"
      }
    },
    {
      "cell_type": "code",
      "source": [
        "class AccessLevels:\n",
        "    def __init__(self):\n",
        "        self.public_attribute = \"I'm public!\"\n",
        "        self._private_attribute = \"I'm private!\"\n",
        "        self.__restricted_attribute = \"Top-secret!\"\n",
        "\n",
        "    def get_private_attribute(self):\n",
        "        return self._private_attribute\n",
        "\n",
        "    def get_restricted_attribute(self):\n",
        "        return self.__restricted_attribute\n",
        "\n",
        "obj = AccessLevels()\n",
        "\n",
        "print(\"Public attribute:\", obj.public_attribute)\n",
        "print(\"Private attribute:\", obj.get_private_attribute())\n",
        "print(\"Restricted attribute:\", obj.get_restricted_attribute())"
      ],
      "metadata": {
        "id": "PlMQmzciRM_D",
        "colab": {
          "base_uri": "https://localhost:8080/"
        },
        "outputId": "a82c055e-8306-446e-cb8e-59fc34e87baa"
      },
      "execution_count": 47,
      "outputs": [
        {
          "output_type": "stream",
          "name": "stdout",
          "text": [
            "Public attribute: I'm public!\n",
            "Private attribute: I'm private!\n",
            "Restricted attribute: Top-secret!\n"
          ]
        }
      ]
    },
    {
      "cell_type": "code",
      "source": [
        "# Attempting direct access to _private_attribute (protected attribute)\n",
        "print(\"Direct access to private attribute:\", obj._private_attribute)\n",
        "\n",
        "# Attempting to directly access __restricted_attribute will result in an AttributeError\n",
        "try:\n",
        "    print(\"Direct access to restricted attribute:\", obj.__restricted_attribute)\n",
        "except AttributeError as e:\n",
        "    print(f\"AttributeError: {e}\")"
      ],
      "metadata": {
        "colab": {
          "base_uri": "https://localhost:8080/"
        },
        "id": "iCuRV5lm5viN",
        "outputId": "d86d82eb-c074-483d-e74b-4b4e06073a61"
      },
      "execution_count": 48,
      "outputs": [
        {
          "output_type": "stream",
          "name": "stdout",
          "text": [
            "Direct access to private attribute: I'm private!\n",
            "AttributeError: 'AccessLevels' object has no attribute '__restricted_attribute'\n"
          ]
        }
      ]
    },
    {
      "cell_type": "markdown",
      "source": [
        "Прямий доступ до `_private_attribute` можливий, але нерекомендований, оскільки цей атрибут вважається захищеним.\n",
        "\n",
        "Щодо `__restricted_attribute`, спроба прямого доступу призведе до виникнення помилки AttributeError. Це відбувається тому, що атрибут використовує механізм \"name mangling\" і його ім'я було змінено на `_AccessLevels__restricted_attribute`, щоб ускладнити доступ до нього."
      ],
      "metadata": {
        "id": "dPeyy7t87cF6"
      }
    },
    {
      "cell_type": "markdown",
      "source": [
        "3. (8б). Як ви розумієте термін self? Для чого використовується метод __init __?"
      ],
      "metadata": {
        "id": "iaoOLp4RRZyc"
      }
    },
    {
      "cell_type": "markdown",
      "source": [
        "`self` - це посилання на поточний об'єкт класу в Python. Метод `__init__` викликається при створенні нового об'єкта і служить для ініціалізації його атрибутів."
      ],
      "metadata": {
        "id": "-yuvBRjFRlz5"
      }
    },
    {
      "cell_type": "markdown",
      "source": [
        "4. (8б). Створіть клас Фігура без атрибутів, з методом get_area для отримання площі фігури, що повертає 0 та __add __, який приймає self та other в якості аргументів, а повертає суму площин фігур self та other."
      ],
      "metadata": {
        "id": "nVectYeATZAi"
      }
    },
    {
      "cell_type": "code",
      "source": [
        "class Figure:\n",
        "    def get_area(self):\n",
        "        return 0\n",
        "\n",
        "    def __add__(self, other):\n",
        "        if isinstance(other, Figure):\n",
        "            return self.get_area() + other.get_area()\n",
        "        else:\n",
        "            raise ValueError(\"Can only add instances of the Figure class\")\n",
        "\n",
        "figure1 = Figure()\n",
        "figure2 = Figure()\n",
        "\n",
        "area1 = figure1.get_area()\n",
        "area2 = figure2.get_area()\n",
        "\n",
        "print(\"The area of the first figure:\", area1)\n",
        "print(\"The area of the second figure:\", area2)\n",
        "\n",
        "sum_area = figure1 + figure2\n",
        "print(\"Sum of the areas of shapes:\", sum_area)"
      ],
      "metadata": {
        "id": "EYvcpzHbRZLz",
        "colab": {
          "base_uri": "https://localhost:8080/"
        },
        "outputId": "58dab667-20ba-4cb9-832b-b70ad11b1c3b"
      },
      "execution_count": 58,
      "outputs": [
        {
          "output_type": "stream",
          "name": "stdout",
          "text": [
            "The area of the first figure: 0\n",
            "The area of the second figure: 0\n",
            "Sum of the areas of shapes: 0\n"
          ]
        }
      ]
    },
    {
      "cell_type": "markdown",
      "source": [
        "5. (11б). Створіть 2 дочірніх класи від Фігури: Трикутник та Коло, які мають атрибути, необхідні для розрахунку площин. Визначте метод get_area в кожному з них так, щоби вони розраховували площу в залежності від формули для кожного типу фігури. Створіть обʼєкт класу Трикутник та обʼєкт класу Коло. Виконайте операцію суми за допомогою оператора + між ними."
      ],
      "metadata": {
        "id": "PheOkqlCg9SD"
      }
    },
    {
      "cell_type": "code",
      "source": [
        "import math\n",
        "\n",
        "class Figure:\n",
        "    def get_area(self):\n",
        "        return 0\n",
        "\n",
        "    def __add__(self, other):\n",
        "        if isinstance(other, Figure):\n",
        "            return self.get_area() + other.get_area()\n",
        "        else:\n",
        "            raise ValueError(\"Can only add instances of the Figure class\")\n",
        "\n",
        "class Triangle(Figure):\n",
        "    def __init__(self, base, height):\n",
        "        self.base = base\n",
        "        self.height = height\n",
        "\n",
        "    def get_area(self):\n",
        "        return 0.5 * self.base * self.height\n",
        "\n",
        "class Circle(Figure):\n",
        "    def __init__(self, radius):\n",
        "        self.radius = radius\n",
        "\n",
        "    def get_area(self):\n",
        "        return math.pi * self.radius ** 2\n",
        "\n",
        "triangle = Triangle(base=5, height=8)\n",
        "circle = Circle(radius=3)\n",
        "\n",
        "area_triangle = triangle.get_area()\n",
        "area_circle = circle.get_area()\n",
        "\n",
        "print(\"The area of a triangle:\", area_triangle)\n",
        "print(\"Area of the circle:\", area_circle)\n",
        "\n",
        "sum_area = triangle + circle\n",
        "print(\"The sum of the areas of the figures:\", sum_area)"
      ],
      "metadata": {
        "id": "7Jo8-rqlhNSw",
        "colab": {
          "base_uri": "https://localhost:8080/"
        },
        "outputId": "5f6ee568-c74e-46c3-8a1b-541b4143d34f"
      },
      "execution_count": 59,
      "outputs": [
        {
          "output_type": "stream",
          "name": "stdout",
          "text": [
            "The area of a triangle: 20.0\n",
            "Area of the circle: 28.274333882308138\n",
            "The sum of the areas of the figures: 48.27433388230814\n"
          ]
        }
      ]
    },
    {
      "cell_type": "markdown",
      "source": [
        "6. (7б). Продемонструйте різницю між isinstance та issubclass."
      ],
      "metadata": {
        "id": "WxW51aGIhN2q"
      }
    },
    {
      "cell_type": "markdown",
      "source": [
        "`isinstance` перевіряє, чи об'єкт є екземпляром певного класу або його підкласу, тоді як `issubclass` перевіряє, чи один клас є підкласом іншого класу."
      ],
      "metadata": {
        "id": "wrV4uKx6PTF-"
      }
    },
    {
      "cell_type": "code",
      "source": [
        "class Person:\n",
        "    def __init__(self, name, last_name, age):\n",
        "        self.name = name\n",
        "        self.last_name = last_name\n",
        "        self.age = age\n",
        "\n",
        "class Student(Person):\n",
        "    def __init__(self, name, last_name, age):\n",
        "        super().__init__(name, last_name, age)\n",
        "\n",
        "student_obj = Student(\"Viacheslav\", \"Romanok\", 20)\n",
        "\n",
        "print(isinstance(student_obj, Student))\n",
        "print(isinstance(student_obj, Person))\n",
        "print(isinstance(student_obj, int))\n",
        "print(\" \")\n",
        "print(issubclass(Student, Person))\n",
        "print(issubclass(Person, Student))\n",
        "print(issubclass(int, Person))"
      ],
      "metadata": {
        "id": "E-QybeYShdAu",
        "colab": {
          "base_uri": "https://localhost:8080/"
        },
        "outputId": "40417cd2-2c84-46a2-df69-bc06a5a6debd"
      },
      "execution_count": 70,
      "outputs": [
        {
          "output_type": "stream",
          "name": "stdout",
          "text": [
            "True\n",
            "True\n",
            "False\n",
            " \n",
            "True\n",
            "False\n",
            "False\n"
          ]
        }
      ]
    },
    {
      "cell_type": "markdown",
      "source": [
        "7. (16б). Створіть клас BankAccount з приватними атрибутами balance та account_number.\n",
        "Реалізуйте методи поповнення та зняття коштів, забезпечивши належну інкапсуляцію. Підказка: використовуйте декоратори getter та setter."
      ],
      "metadata": {
        "id": "Mrup7UL3hfC3"
      }
    },
    {
      "cell_type": "code",
      "source": [
        "class BankAccount:\n",
        "    def __init__(self, initial_balance, account_number):\n",
        "        self._balance = initial_balance\n",
        "        self._account_number = account_number\n",
        "\n",
        "    @property\n",
        "    def balance(self):\n",
        "        return self._balance\n",
        "\n",
        "    @balance.setter\n",
        "    def balance(self, new_balance):\n",
        "        if new_balance >= 0:\n",
        "            self._balance = new_balance\n",
        "        else:\n",
        "            print(\"Error: Balance cannot be negative.\")\n",
        "\n",
        "    @property\n",
        "    def account_number(self):\n",
        "        return self._account_number\n",
        "\n",
        "    def deposit(self, amount):\n",
        "        if amount > 0:\n",
        "            self._balance += amount\n",
        "            print(f\"Deposited ${amount}. New balance: ${self._balance}\")\n",
        "        else:\n",
        "            print(\"Error: Deposit amount must be positive.\")\n",
        "\n",
        "    def withdraw(self, amount):\n",
        "        if 0 < amount <= self._balance:\n",
        "            self._balance -= amount\n",
        "            print(f\"Withdrew ${amount}. New balance: ${self._balance}\")\n",
        "        else:\n",
        "            print(\"Error: Invalid withdrawal amount or insufficient funds.\")"
      ],
      "metadata": {
        "id": "Vi8gw9G6i37Y"
      },
      "execution_count": 73,
      "outputs": []
    },
    {
      "cell_type": "code",
      "source": [
        "# An example of code execution\n",
        "account1 = BankAccount(initial_balance=1000, account_number=\"31\")\n",
        "\n",
        "print(f\"Account Number: {account1.account_number}\")\n",
        "print(f\"Current Balance: ${account1.balance}\")\n",
        "\n",
        "account1.deposit(500)\n",
        "account1.withdraw(200)\n",
        "account1.withdraw(1500)\n",
        "account1.balance = 1500\n",
        "account1.balance = -200"
      ],
      "metadata": {
        "colab": {
          "base_uri": "https://localhost:8080/"
        },
        "id": "imJk1a_2QF2w",
        "outputId": "82525279-3ba0-437d-ffd5-d45b59c45db2"
      },
      "execution_count": 78,
      "outputs": [
        {
          "output_type": "stream",
          "name": "stdout",
          "text": [
            "Account Number: 31\n",
            "Current Balance: $1000\n",
            "Deposited $500. New balance: $1500\n",
            "Withdrew $200. New balance: $1300\n",
            "Error: Invalid withdrawal amount or insufficient funds.\n",
            "Error: Balance cannot be negative.\n"
          ]
        }
      ]
    },
    {
      "cell_type": "markdown",
      "source": [
        "8. (16б). Створіть клас Library, який містить список об'єктів типу Book.\n",
        "Реалізуйте методи для додавання книги, видалення книги та відображення списку книг."
      ],
      "metadata": {
        "id": "q1mgZYuFjB_q"
      }
    },
    {
      "cell_type": "code",
      "source": [
        "class Book:\n",
        "    def __init__(self, title, author):\n",
        "        self.title = title\n",
        "        self.author = author\n",
        "\n",
        "class Library:\n",
        "    def __init__(self):\n",
        "        self.books = []\n",
        "\n",
        "    def add_book(self, book):\n",
        "        self.books.append(book)\n",
        "        print(f'Book \"{book.title}\" by {book.author} added to the library.')\n",
        "\n",
        "    def remove_book(self, title):\n",
        "        for book in self.books:\n",
        "            if book.title == title:\n",
        "                self.books.remove(book)\n",
        "                print(f'Book \"{book.title}\" by {book.author} removed from the library.')\n",
        "                return\n",
        "        print(f'Book with title \"{title}\" not found in the library.')\n",
        "\n",
        "    def display_books(self):\n",
        "        if not self.books:\n",
        "            print('The library is empty.')\n",
        "        else:\n",
        "            print('List of books in the library:')\n",
        "            for book in self.books:\n",
        "                print(f'\"{book.title}\" by {book.author}')"
      ],
      "metadata": {
        "id": "z1W8DINmjQQj"
      },
      "execution_count": 87,
      "outputs": []
    },
    {
      "cell_type": "code",
      "source": [
        "# An example of code execution\n",
        "library = Library()\n",
        "\n",
        "book1 = Book(\"The Old Republic. Revan\", \"Drew Karpyshyn\")\n",
        "book2 = Book(\"Traun\", \"Timothy Zahn\")\n",
        "\n",
        "library.add_book(book1)\n",
        "library.add_book(book2)\n",
        "\n",
        "library.display_books()\n",
        "\n",
        "library.remove_book(\"Traun\")\n",
        "\n",
        "library.display_books()"
      ],
      "metadata": {
        "colab": {
          "base_uri": "https://localhost:8080/"
        },
        "id": "sc4OXnukRQg_",
        "outputId": "7ecacdfd-7e66-4f11-8790-e9e19e8bbe45"
      },
      "execution_count": 88,
      "outputs": [
        {
          "output_type": "stream",
          "name": "stdout",
          "text": [
            "Book \"The Old Republic. Revan\" by Drew Karpyshyn added to the library.\n",
            "Book \"Traun\" by Timothy Zahn added to the library.\n",
            "List of books in the library:\n",
            "\"The Old Republic. Revan\" by Drew Karpyshyn\n",
            "\"Traun\" by Timothy Zahn\n",
            "Book \"Traun\" by Timothy Zahn removed from the library.\n",
            "List of books in the library:\n",
            "\"The Old Republic. Revan\" by Drew Karpyshyn\n"
          ]
        }
      ]
    },
    {
      "cell_type": "markdown",
      "source": [
        "9. (13б). Створіть клас Person з атрибутами name та age.\n",
        "Створіть ще один клас Employee з такими атрибутами, як department та salary.\n",
        "Створіть клас Manager, який успадковує обидва класи Person та Employee. Продемонструйте використання множинної спадковості, створивши обʼєкт класу Manager та отримавши mro для цього класу."
      ],
      "metadata": {
        "id": "cCzctafPjwiZ"
      }
    },
    {
      "cell_type": "code",
      "source": [
        "class Person:\n",
        "    def __init__(self, name, age):\n",
        "        self.name = name\n",
        "        self.age = age\n",
        "\n",
        "class Employee:\n",
        "    def __init__(self, department, salary):\n",
        "        self.department = department\n",
        "        self.salary = salary\n",
        "\n",
        "class Manager(Person, Employee):\n",
        "    def __init__(self, name, age, department, salary, title):\n",
        "        Person.__init__(self, name, age)\n",
        "        Employee.__init__(self, department, salary)\n",
        "        self.title = title\n",
        "\n",
        "manager = Manager(name=\"Viacheslav Romanok\", age=20, department=\"IT\", salary=250000, title=\"Senior\")\n",
        "\n",
        "print(f\"Manager's name: {manager.name}\")\n",
        "print(f\"Manager's age: {manager.age}\")\n",
        "print(f\"Manager's department: {manager.department}\")\n",
        "print(f\"Manager's salary: ${manager.salary}\")\n",
        "print(f\"Manager's title: {manager.title}\")\n",
        "print(f\"MRO for Manager: {Manager.mro()}\")"
      ],
      "metadata": {
        "id": "tZQ8-tfPk1k5",
        "colab": {
          "base_uri": "https://localhost:8080/"
        },
        "outputId": "ebcd7141-e3ba-43c9-b455-b38cebfd65dd"
      },
      "execution_count": 95,
      "outputs": [
        {
          "output_type": "stream",
          "name": "stdout",
          "text": [
            "Manager's name: Viacheslav Romanok\n",
            "Manager's age: 20\n",
            "Manager's department: IT\n",
            "Manager's salary: $250000\n",
            "Manager's title: Senior\n",
            "MRO for Manager: [<class '__main__.Manager'>, <class '__main__.Person'>, <class '__main__.Employee'>, <class 'object'>]\n"
          ]
        }
      ]
    },
    {
      "cell_type": "markdown",
      "source": [
        "# Вітаю! Ви велика(ий) молодець, що впоралась(вся). Похваліть себе та побалуйте чимось приємним. Я Вами пишаюся."
      ],
      "metadata": {
        "id": "dzH9DdFTOxCC"
      }
    }
  ]
}